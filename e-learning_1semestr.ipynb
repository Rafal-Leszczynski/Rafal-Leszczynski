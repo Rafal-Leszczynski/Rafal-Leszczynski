{
  "nbformat": 4,
  "nbformat_minor": 0,
  "metadata": {
    "colab": {
      "provenance": [],
      "authorship_tag": "ABX9TyNQvB5r4cdQ/gmK8EQnVFfk",
      "include_colab_link": true
    },
    "kernelspec": {
      "name": "python3",
      "display_name": "Python 3"
    },
    "language_info": {
      "name": "python"
    }
  },
  "cells": [
    {
      "cell_type": "markdown",
      "metadata": {
        "id": "view-in-github",
        "colab_type": "text"
      },
      "source": [
        "<a href=\"https://colab.research.google.com/github/Rafal-Leszczynski/Rafal-Leszczynski/blob/main/e-learning_1semestr.ipynb\" target=\"_parent\"><img src=\"https://colab.research.google.com/assets/colab-badge.svg\" alt=\"Open In Colab\"/></a>"
      ]
    },
    {
      "cell_type": "markdown",
      "source": [
        "Zadania na e-learning"
      ],
      "metadata": {
        "id": "O0DUBvsX9S28"
      }
    },
    {
      "cell_type": "markdown",
      "source": [
        "Lista 1, Lista 2, Lista 3\n"
      ],
      "metadata": {
        "id": "0iRWrIOW9ACF"
      }
    },
    {
      "cell_type": "markdown",
      "source": [
        "1. Przypisz do zmiennej dowolną liczbę całkowitą i wypisz ją na ekran."
      ],
      "metadata": {
        "id": "ye2di05w9Ch5"
      }
    },
    {
      "cell_type": "markdown",
      "source": [
        "2. Poproś użytkownika o podanie swojego imienia i wypisz je na ekranie. Przy pisaniu kodu źródłowego wykorzystaj komentarze."
      ],
      "metadata": {
        "id": "ip38CbLn9EPq"
      }
    },
    {
      "cell_type": "markdown",
      "source": [
        "3. Napisz program, który sprawdzi czy podany wiek kwalifikuje osobę do emerytury (czyli czy ma więcej niż 60 lat dla kobiet i więcej niż 65 lat dla mężczyzn)."
      ],
      "metadata": {
        "id": "RkP6kD3x9F_c"
      }
    },
    {
      "cell_type": "markdown",
      "source": [
        "4. Napisz program, który sprawdzi czy podane trzy liczby mogą być bokami trójkąta."
      ],
      "metadata": {
        "id": "Tvolh9GW9Hx-"
      }
    },
    {
      "cell_type": "markdown",
      "source": [
        "Ćw. 4, Ćw. 5"
      ],
      "metadata": {
        "id": "QRp94GNu9Jng"
      }
    },
    {
      "cell_type": "markdown",
      "source": [
        "1. Stwórz słownik zawierający informacje o kilku studentach (imię, nazwisko, wiek). Następnie wyświetl dane jednego z studentów."
      ],
      "metadata": {
        "id": "dOPercT39MDZ"
      }
    },
    {
      "cell_type": "markdown",
      "source": [
        "2. Stwórz krotkę zawierającą imiona \"Anna\", \"Jan\" i \"Maria\".  Czy jest możliwe dodanie nowego imiona do nowo utworzonej krotki?"
      ],
      "metadata": {
        "id": "n8bUe5Gg9mpL"
      }
    },
    {
      "cell_type": "markdown",
      "source": [
        "3. Posortuj listę liczb [5, 2, 8, 1, 3] rosnąco. Usuń drugi element z listy. Wypisz nowo utworzoną posortowaną listę."
      ],
      "metadata": {
        "id": "z0lvMjK79pO0"
      }
    },
    {
      "cell_type": "markdown",
      "source": [
        "4. Stwórz zagnieżdżoną listę zawierającą informacje o pracownikach firmy (imię, nazwisko, stanowisko, pensja). Napisz program, który wyświetli wszystkich pracowników z pensją powyżej 5000 zł."
      ],
      "metadata": {
        "id": "nx9xmCJN9rBP"
      }
    },
    {
      "cell_type": "markdown",
      "source": [
        "5. Stwórz zagnieżdżony słownik zawierający informacje o dwóch osobach. Każda osoba powinna mieć przypisane imię, nazwisko i wiek. Następnie wyświetl imię pierwszej osoby.\n"
      ],
      "metadata": {
        "id": "7P3Cov_z9uFV"
      }
    },
    {
      "cell_type": "markdown",
      "source": [
        "6. Stwórz zagnieżdżoną krotkę zawierającą dwie krotki: (1, 2, 3) oraz (4, 5, 6). Następnie wyświetl trzeci element pierwszej krotki."
      ],
      "metadata": {
        "id": "RMOqYs5t9w4f"
      }
    },
    {
      "cell_type": "markdown",
      "source": [
        "Cw. 6"
      ],
      "metadata": {
        "id": "igQHr2CU95bw"
      }
    },
    {
      "cell_type": "markdown",
      "source": [
        "1.Napisz program, która przyjmuje listę imion i listę nazwisk oraz zwraca listę zawierającą pełne imiona i nazwiska. Wykorzystaj funkcję zip().\n",
        "Przykładowe dane wejściowe:\n",
        "imiona = ['Anna', 'Jan', 'Maria']\n",
        "nazwiska = ['Kowalska', 'Nowak', 'Wiśniewska']\n",
        "Oczekiwany wynik:\n",
        "['Anna Kowalska', 'Jan Nowak', 'Maria Wiśniewska']\n"
      ],
      "metadata": {
        "id": "bCh40HZj97e0"
      }
    },
    {
      "cell_type": "markdown",
      "source": [
        "2. Utwórz listę zawierającą oceny z egzaminów studentów. Następnie użyj funkcji enumerate() do wyświetlenia indeksów oraz odpowiadających im ocen na ekranie."
      ],
      "metadata": {
        "id": "HTHkhE13-AQK"
      }
    },
    {
      "cell_type": "markdown",
      "source": [
        "3. Stwórz program, który przy użyciu funkcji len() sprawdzi długość słownika zawierającego nazwy przedmiotów i wyświetli tę długość na ekranie."
      ],
      "metadata": {
        "id": "dCYLvzlQ-CIC"
      }
    },
    {
      "cell_type": "markdown",
      "source": [
        "4. Napisz program w Pythonie, który będzie symulował działanie kolejki za pomocą wbudowanej struktury danych `deque` z modułu `collections`. Program powinien umożliwiać dodawanie elementów do kolejki, usuwanie elementów z kolejki oraz wyświetlanie zawartości kolejki."
      ],
      "metadata": {
        "id": "sVqGhVwW-ENK"
      }
    },
    {
      "cell_type": "markdown",
      "source": [
        "Ćw. 7"
      ],
      "metadata": {
        "id": "sQ2wrexW-F7V"
      }
    },
    {
      "cell_type": "markdown",
      "source": [
        "1. Napisz program w Pythonie, która przyjmuje dwa napisy jako argumenty i zwraca informację czy są one anagramami (czy składają się z tych samych liter)."
      ],
      "metadata": {
        "id": "zdLYJBKQ-HlF"
      }
    },
    {
      "cell_type": "markdown",
      "source": [
        "2. Napisz program, który obliczy pole powierzchni koła o zadanym promieniu, korzystając z modułu math."
      ],
      "metadata": {
        "id": "zI3rdfc5-Jus"
      }
    },
    {
      "cell_type": "markdown",
      "source": [
        "3. Napisz program, który będzie generować losową liczbę z przedziału od 1 do 100 i sprawdzi, czy jest ona liczbą pierwszą."
      ],
      "metadata": {
        "id": "-K0sr8Yq-Ldw"
      }
    },
    {
      "cell_type": "markdown",
      "source": [
        "Ćw. 8"
      ],
      "metadata": {
        "id": "AEAgub9v-Ngi"
      }
    },
    {
      "cell_type": "markdown",
      "source": [
        "1. Napisz funkcję w Python, która przyjmuje jako argument listę napisów i zwraca listę zawierającą tylko te napisy, które zawierają literę 'a'."
      ],
      "metadata": {
        "id": "1uZtcxcO-Pgy"
      }
    },
    {
      "cell_type": "markdown",
      "source": [
        "2. Napisz funkcję w Python, która przyjmuje jako argument listę liczb całkowitych i zwraca listę zawierającą tylko te liczby, które są kwadratami innych liczb z listy."
      ],
      "metadata": {
        "id": "UFCv8ZeN-ROu"
      }
    },
    {
      "cell_type": "markdown",
      "source": [
        "3. Stwórz funkcję, która przyjmuje słownik zawierający nazwy produktów i ich ceny, a następnie zwraca nazwę produktu o najwyższej cenie."
      ],
      "metadata": {
        "id": "KyE1CXe3-Tl3"
      }
    },
    {
      "cell_type": "markdown",
      "source": [
        "Ćw. 9"
      ],
      "metadata": {
        "id": "qbjOR7L1-VSc"
      }
    },
    {
      "cell_type": "markdown",
      "source": [
        "1. Stwórz klasę \"Książka\" z atrybutami: tytuł, autor, rok_wydania. Napisz metodę, która wyświetli informacje o książce oraz metodę, która sprawdzi czy książka została wydana przed 2000 rokiem."
      ],
      "metadata": {
        "id": "dXmT4kgU-XLs"
      }
    },
    {
      "cell_type": "markdown",
      "source": [
        "2. Stwórz klasę \"Produkt\" z atrybutami: nazwa, cena, ilość. Napisz metody, które umożliwią dodanie produktu do koszyka, zmniejszenie ilości produktu w koszyku oraz obliczenie całkowitej wartości koszyka."
      ],
      "metadata": {
        "id": "38CR9zml-ZEJ"
      }
    },
    {
      "cell_type": "markdown",
      "source": [
        "3. Stwórz klasę \"Trójkąt\" dziedziczącą po klasie \"FiguraGeometryczna\", która będzie miała dodatkowy atrybut długości boków oraz metodę obliczającą pole i obwód trójkąta."
      ],
      "metadata": {
        "id": "gSAKETLH-a1E"
      }
    },
    {
      "cell_type": "markdown",
      "source": [
        "4. Stwórz klasę \"Pojazd\" z atrybutami marka, model i rok_produkcji. Następnie stwórz klasy \"Samochod\" i \"Motocykl\", które dziedziczą po klasie \"Pojazd\" i dodają atrybuty specyficzne dla danego typu pojazdu."
      ],
      "metadata": {
        "id": "mptu3UIK-eAQ"
      }
    },
    {
      "cell_type": "markdown",
      "source": [
        "Ćw. 10"
      ],
      "metadata": {
        "id": "y55vNA3Y-epO"
      }
    },
    {
      "cell_type": "markdown",
      "source": [
        "1. Polimorfizm:\n",
        "Stwórz dwie klasy: Kwadrat i Kolo. Obie klasy powinny mieć metodę obliczająca pole powierzchni (np. oblicz_pole()). Następnie stwórz listę obiektów tych klas i wywołaj dla każdego z nich metodę oblicz_pole().\n"
      ],
      "metadata": {
        "id": "rfAETGSx-g0x"
      }
    },
    {
      "cell_type": "markdown",
      "source": [
        "2. Hermetyzacja:\n",
        "Stwórz klasę Osoba z atrybutami imie, nazwisko i wiek. Zabezpiecz atrybuty imie i nazwisko przed bezpośrednim dostępem z zewnątrz klasy.\n"
      ],
      "metadata": {
        "id": "WLMuziIZ-iui"
      }
    },
    {
      "cell_type": "markdown",
      "source": [
        "3. Abstrakcja:\n",
        "Stwórz klasę Zwierze z metodą abstrakcyjną daj_glos(). Następnie stwórz dwie klasy dziedziczące po klasie Zwierze: Pies i Kot. Każda z tych klas powinna zaimplementować metodę daj_glos() w sposób odpowiedni dla danego zwierzęcia.\n"
      ],
      "metadata": {
        "id": "K8D8c5zU-kjd"
      }
    },
    {
      "cell_type": "markdown",
      "source": [
        "4.\n",
        "Napisz dekorator, który będzie mnożył wynik funkcji przez 2.\n"
      ],
      "metadata": {
        "id": "ygMZp3yO-mpl"
      }
    },
    {
      "cell_type": "markdown",
      "source": [],
      "metadata": {
        "id": "m8SHcIJ_-pI1"
      }
    }
  ]
}